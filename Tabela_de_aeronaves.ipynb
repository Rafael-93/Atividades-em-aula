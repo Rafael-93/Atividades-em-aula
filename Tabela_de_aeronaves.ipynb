{
  "nbformat": 4,
  "nbformat_minor": 0,
  "metadata": {
    "colab": {
      "name": "Tabela de aeronaves.ipynb",
      "provenance": [],
      "include_colab_link": true
    },
    "kernelspec": {
      "name": "python3",
      "display_name": "Python 3"
    }
  },
  "cells": [
    {
      "cell_type": "markdown",
      "metadata": {
        "id": "view-in-github",
        "colab_type": "text"
      },
      "source": [
        "<a href=\"https://colab.research.google.com/github/Rafael-93/Atividades-em-aula/blob/master/Tabela_de_aeronaves.ipynb\" target=\"_parent\"><img src=\"https://colab.research.google.com/assets/colab-badge.svg\" alt=\"Open In Colab\"/></a>"
      ]
    },
    {
      "cell_type": "code",
      "metadata": {
        "id": "UKDbHcLsFakh",
        "colab_type": "code",
        "colab": {}
      },
      "source": [
        "import pandas as pd"
      ],
      "execution_count": 0,
      "outputs": []
    },
    {
      "cell_type": "code",
      "metadata": {
        "id": "Vdkcw0btFmUW",
        "colab_type": "code",
        "colab": {
          "base_uri": "https://localhost:8080/",
          "height": 278
        },
        "outputId": "f5e458d2-88e6-4ca5-9f67-982aa63c9355"
      },
      "source": [
        "df = pd.read_csv('anv.csv', sep = '~')\n",
        "df.head()"
      ],
      "execution_count": 9,
      "outputs": [
        {
          "output_type": "execute_result",
          "data": {
            "text/html": [
              "<div>\n",
              "<style scoped>\n",
              "    .dataframe tbody tr th:only-of-type {\n",
              "        vertical-align: middle;\n",
              "    }\n",
              "\n",
              "    .dataframe tbody tr th {\n",
              "        vertical-align: top;\n",
              "    }\n",
              "\n",
              "    .dataframe thead th {\n",
              "        text-align: right;\n",
              "    }\n",
              "</style>\n",
              "<table border=\"1\" class=\"dataframe\">\n",
              "  <thead>\n",
              "    <tr style=\"text-align: right;\">\n",
              "      <th></th>\n",
              "      <th>codigo_ocorrencia</th>\n",
              "      <th>aeronave_matricula</th>\n",
              "      <th>aeronave_operador_categoria</th>\n",
              "      <th>aeronave_tipo_veiculo</th>\n",
              "      <th>aeronave_fabricante</th>\n",
              "      <th>aeronave_modelo</th>\n",
              "      <th>aeronave_tipo_icao</th>\n",
              "      <th>aeronave_motor_tipo</th>\n",
              "      <th>aeronave_motor_quantidade</th>\n",
              "      <th>aeronave_pmd</th>\n",
              "      <th>aeronave_pmd_categoria</th>\n",
              "      <th>aeronave_assentos</th>\n",
              "      <th>aeronave_ano_fabricacao</th>\n",
              "      <th>aeronave_pais_fabricante</th>\n",
              "      <th>aeronave_pais_registro</th>\n",
              "      <th>aeronave_registro_categoria</th>\n",
              "      <th>aeronave_registro_segmento</th>\n",
              "      <th>aeronave_voo_origem</th>\n",
              "      <th>aeronave_voo_destino</th>\n",
              "      <th>aeronave_fase_operacao</th>\n",
              "      <th>aeronave_fase_operacao_icao</th>\n",
              "      <th>aeronave_tipo_operacao</th>\n",
              "      <th>aeronave_nivel_dano</th>\n",
              "      <th>total_fatalidades</th>\n",
              "      <th>aeronave_dia_extracao</th>\n",
              "    </tr>\n",
              "  </thead>\n",
              "  <tbody>\n",
              "    <tr>\n",
              "      <th>0</th>\n",
              "      <td>201106142171203</td>\n",
              "      <td>PPGXE</td>\n",
              "      <td>AEROCLUBE</td>\n",
              "      <td>AVIÃO</td>\n",
              "      <td>NEIVA INDUSTRIA AERONAUTICA</td>\n",
              "      <td>56-C</td>\n",
              "      <td>PAUL</td>\n",
              "      <td>PISTÃO</td>\n",
              "      <td>MONOMOTOR</td>\n",
              "      <td>660</td>\n",
              "      <td>ATÉ 2250 KG</td>\n",
              "      <td>2.0</td>\n",
              "      <td>1962.0</td>\n",
              "      <td>BRASIL</td>\n",
              "      <td>BRASIL</td>\n",
              "      <td>PRI</td>\n",
              "      <td>INSTRUÇÃO</td>\n",
              "      <td>SDPW</td>\n",
              "      <td>SDPW</td>\n",
              "      <td>INDETERMINADA</td>\n",
              "      <td>UNKNOWN</td>\n",
              "      <td>VOO DE INSTRUÇÃO</td>\n",
              "      <td>SUBSTANCIAL</td>\n",
              "      <td>0</td>\n",
              "      <td>2019-05-31</td>\n",
              "    </tr>\n",
              "    <tr>\n",
              "      <th>1</th>\n",
              "      <td>201205209591320</td>\n",
              "      <td>PTRBN</td>\n",
              "      <td>OPERADOR DE AERONAVE</td>\n",
              "      <td>AVIÃO</td>\n",
              "      <td>EMBRAER</td>\n",
              "      <td>EMB-810C</td>\n",
              "      <td>PA34</td>\n",
              "      <td>PISTÃO</td>\n",
              "      <td>BIMOTOR</td>\n",
              "      <td>2073</td>\n",
              "      <td>ATÉ 2250 KG</td>\n",
              "      <td>6.0</td>\n",
              "      <td>1980.0</td>\n",
              "      <td>BRASIL</td>\n",
              "      <td>BRASIL</td>\n",
              "      <td>TPX</td>\n",
              "      <td>TÁXI AÉREO</td>\n",
              "      <td>****</td>\n",
              "      <td>****</td>\n",
              "      <td>APROXIMAÇÃO FINAL</td>\n",
              "      <td>APPROACH</td>\n",
              "      <td>TÁXI AÉREO</td>\n",
              "      <td>NENHUM</td>\n",
              "      <td>0</td>\n",
              "      <td>2019-05-31</td>\n",
              "    </tr>\n",
              "    <tr>\n",
              "      <th>2</th>\n",
              "      <td>201012015549851</td>\n",
              "      <td>PTKUK</td>\n",
              "      <td>OPERADOR DE AERONAVE</td>\n",
              "      <td>AVIÃO</td>\n",
              "      <td>TWIN COMMANDER</td>\n",
              "      <td>500-B</td>\n",
              "      <td>AC50</td>\n",
              "      <td>PISTÃO</td>\n",
              "      <td>BIMOTOR</td>\n",
              "      <td>3062</td>\n",
              "      <td>ENTRE 2250 E 5700 KG</td>\n",
              "      <td>7.0</td>\n",
              "      <td>1961.0</td>\n",
              "      <td>ESTADOS UNIDOS</td>\n",
              "      <td>BRASIL</td>\n",
              "      <td>TPX</td>\n",
              "      <td>TÁXI AÉREO</td>\n",
              "      <td>****</td>\n",
              "      <td>****</td>\n",
              "      <td>CORRIDA APÓS POUSO</td>\n",
              "      <td>LANDING</td>\n",
              "      <td>TÁXI AÉREO</td>\n",
              "      <td>LEVE</td>\n",
              "      <td>0</td>\n",
              "      <td>2019-05-31</td>\n",
              "    </tr>\n",
              "    <tr>\n",
              "      <th>3</th>\n",
              "      <td>201708190325167</td>\n",
              "      <td>PTKUK</td>\n",
              "      <td>OPERADOR PARTICULAR</td>\n",
              "      <td>AVIÃO</td>\n",
              "      <td>TWIN COMMANDER</td>\n",
              "      <td>500-B</td>\n",
              "      <td>AC50</td>\n",
              "      <td>PISTÃO</td>\n",
              "      <td>BIMOTOR</td>\n",
              "      <td>3062</td>\n",
              "      <td>ENTRE 2250 E 5700 KG</td>\n",
              "      <td>7.0</td>\n",
              "      <td>1961.0</td>\n",
              "      <td>ESTADOS UNIDOS</td>\n",
              "      <td>BRASIL</td>\n",
              "      <td>SAE</td>\n",
              "      <td>ESPECIALIZADA</td>\n",
              "      <td>SBCP</td>\n",
              "      <td>SBCP</td>\n",
              "      <td>CRUZEIRO</td>\n",
              "      <td>EN ROUTE</td>\n",
              "      <td>OPERAÇÃO ESPECIALIZADA</td>\n",
              "      <td>LEVE</td>\n",
              "      <td>0</td>\n",
              "      <td>2019-05-31</td>\n",
              "    </tr>\n",
              "    <tr>\n",
              "      <th>4</th>\n",
              "      <td>201803182255192</td>\n",
              "      <td>PPGSZ</td>\n",
              "      <td>AEROCLUBE</td>\n",
              "      <td>AVIÃO</td>\n",
              "      <td>NEIVA INDUSTRIA AERONAUTICA</td>\n",
              "      <td>56-C</td>\n",
              "      <td>PAUL</td>\n",
              "      <td>PISTÃO</td>\n",
              "      <td>MONOMOTOR</td>\n",
              "      <td>660</td>\n",
              "      <td>ATÉ 2250 KG</td>\n",
              "      <td>2.0</td>\n",
              "      <td>1960.0</td>\n",
              "      <td>BRASIL</td>\n",
              "      <td>BRASIL</td>\n",
              "      <td>PRI</td>\n",
              "      <td>INSTRUÇÃO</td>\n",
              "      <td>SBBP</td>\n",
              "      <td>SBBP</td>\n",
              "      <td>ARREMETIDA NO SOLO</td>\n",
              "      <td>APPROACH</td>\n",
              "      <td>VOO DE INSTRUÇÃO</td>\n",
              "      <td>LEVE</td>\n",
              "      <td>0</td>\n",
              "      <td>2019-05-31</td>\n",
              "    </tr>\n",
              "  </tbody>\n",
              "</table>\n",
              "</div>"
            ],
            "text/plain": [
              "   codigo_ocorrencia  ... aeronave_dia_extracao\n",
              "0    201106142171203  ...            2019-05-31\n",
              "1    201205209591320  ...            2019-05-31\n",
              "2    201012015549851  ...            2019-05-31\n",
              "3    201708190325167  ...            2019-05-31\n",
              "4    201803182255192  ...            2019-05-31\n",
              "\n",
              "[5 rows x 25 columns]"
            ]
          },
          "metadata": {
            "tags": []
          },
          "execution_count": 9
        }
      ]
    },
    {
      "cell_type": "code",
      "metadata": {
        "id": "8SsrvULcLqjE",
        "colab_type": "code",
        "colab": {
          "base_uri": "https://localhost:8080/",
          "height": 266
        },
        "outputId": "7ed36ea5-da84-4299-bfed-3039e6891fb2"
      },
      "source": [
        "df.aeronave_nivel_dano.value_counts().plot.pie()"
      ],
      "execution_count": 37,
      "outputs": [
        {
          "output_type": "execute_result",
          "data": {
            "text/plain": [
              "<matplotlib.axes._subplots.AxesSubplot at 0x7f08032e34e0>"
            ]
          },
          "metadata": {
            "tags": []
          },
          "execution_count": 37
        },
        {
          "output_type": "display_data",
          "data": {
            "image/png": "[encoded data removed]",
            "text/plain": [
              "<Figure size 432x288 with 1 Axes>"
            ]
          },
          "metadata": {
            "tags": []
          }
        }
      ]
    },
    {
      "cell_type": "code",
      "metadata": {
        "id": "mFJZnS2WMhRw",
        "colab_type": "code",
        "colab": {
          "base_uri": "https://localhost:8080/",
          "height": 266
        },
        "outputId": "d63ef1f4-8e7e-453e-a8c8-89c559df1da9"
      },
      "source": [
        "df.aeronave_motor_tipo.value_counts().plot.pie()"
      ],
      "execution_count": 44,
      "outputs": [
        {
          "output_type": "execute_result",
          "data": {
            "text/plain": [
              "<matplotlib.axes._subplots.AxesSubplot at 0x7f0802fe6e10>"
            ]
          },
          "metadata": {
            "tags": []
          },
          "execution_count": 44
        },
        {
          "output_type": "display_data",
          "data": {
            "image/png": "[encoded data removed]",
            "text/plain": [
              "<Figure size 432x288 with 1 Axes>"
            ]
          },
          "metadata": {
            "tags": []
          }
        }
      ]
    },
    {
      "cell_type": "code",
      "metadata": {
        "id": "QkZj4pR9MM-Y",
        "colab_type": "code",
        "colab": {
          "base_uri": "https://localhost:8080/",
          "height": 407
        },
        "outputId": "b7c6e33e-b529-43b7-9459-7c28f5283ef3"
      },
      "source": [
        "df.aeronave_registro_segmento.value_counts().plot.bar()"
      ],
      "execution_count": 38,
      "outputs": [
        {
          "output_type": "execute_result",
          "data": {
            "text/plain": [
              "<matplotlib.axes._subplots.AxesSubplot at 0x7f08032b5d30>"
            ]
          },
          "metadata": {
            "tags": []
          },
          "execution_count": 38
        },
        {
          "output_type": "display_data",
          "data": {
            "image/png": "[encoded data removed]",
            "text/plain": [
              "<Figure size 432x288 with 1 Axes>"
            ]
          },
          "metadata": {
            "tags": []
          }
        }
      ]
    }
  ]
}