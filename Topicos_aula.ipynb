{
  "nbformat": 4,
  "nbformat_minor": 0,
  "metadata": {
    "colab": {
      "name": "Topicos_aula.ipynb",
      "version": "0.3.2",
      "provenance": [],
      "toc_visible": true,
      "include_colab_link": true
    },
    "kernelspec": {
      "name": "python3",
      "display_name": "Python 3"
    }
  },
  "cells": [
    {
      "cell_type": "markdown",
      "metadata": {
        "id": "view-in-github",
        "colab_type": "text"
      },
      "source": [
        "<a href=\"https://colab.research.google.com/github/Rafael-93/Atividades-em-aula/blob/master/Topicos_aula.ipynb\" target=\"_parent\"><img src=\"https://colab.research.google.com/assets/colab-badge.svg\" alt=\"Open In Colab\"/></a>"
      ]
    },
    {
      "cell_type": "code",
      "metadata": {
        "id": "MSerHOOpEwgW",
        "colab_type": "code",
        "colab": {}
      },
      "source": [
        ""
      ],
      "execution_count": 0,
      "outputs": []
    },
    {
      "cell_type": "markdown",
      "metadata": {
        "id": "-9XX6UQREz8z",
        "colab_type": "text"
      },
      "source": [
        "# 1ª Questão"
      ]
    },
    {
      "cell_type": "code",
      "metadata": {
        "id": "TEwwwifLE9za",
        "colab_type": "code",
        "colab": {}
      },
      "source": [
        "\n",
        "def fat(n):\n",
        "  if n == 0:\n",
        "    return 1\n",
        "  else: \n",
        "    \n",
        "    return n * fat(n-1)"
      ],
      "execution_count": 0,
      "outputs": []
    },
    {
      "cell_type": "code",
      "metadata": {
        "id": "Uj4Hkhh6N8Hv",
        "colab_type": "code",
        "outputId": "6ea033fd-efd9-4a83-adde-4b92cd4b50f6",
        "colab": {
          "base_uri": "https://localhost:8080/",
          "height": 34
        }
      },
      "source": [
        "fat(10)"
      ],
      "execution_count": 0,
      "outputs": [
        {
          "output_type": "execute_result",
          "data": {
            "text/plain": [
              "3628800"
            ]
          },
          "metadata": {
            "tags": []
          },
          "execution_count": 36
        }
      ]
    },
    {
      "cell_type": "markdown",
      "metadata": {
        "id": "p0y58qLLPeGf",
        "colab_type": "text"
      },
      "source": [
        "#2ª Questão"
      ]
    },
    {
      "cell_type": "code",
      "metadata": {
        "id": "6iK2Q0yBPuRj",
        "colab_type": "code",
        "colab": {}
      },
      "source": [
        "def num(p):\n",
        "  if p % 2 == 0:\n",
        "    print(\"Par\")\n",
        "  else:\n",
        "    print(\"Impar\")"
      ],
      "execution_count": 0,
      "outputs": []
    },
    {
      "cell_type": "code",
      "metadata": {
        "id": "2w5vaA11SC5I",
        "colab_type": "code",
        "outputId": "8bfec685-9911-4134-ba6c-a383b3639bf4",
        "colab": {
          "base_uri": "https://localhost:8080/",
          "height": 51
        }
      },
      "source": [
        "num(31)\n",
        "num(30)"
      ],
      "execution_count": 0,
      "outputs": [
        {
          "output_type": "stream",
          "text": [
            "Impar\n",
            "Par\n"
          ],
          "name": "stdout"
        }
      ]
    },
    {
      "cell_type": "markdown",
      "metadata": {
        "id": "c9qDtz9SSvRn",
        "colab_type": "text"
      },
      "source": [
        "#3ª questão"
      ]
    },
    {
      "cell_type": "code",
      "metadata": {
        "id": "x1y1sIksVFN_",
        "colab_type": "code",
        "colab": {}
      },
      "source": [
        "def triangular(y):\n",
        "\n",
        "  variavel_auxiliar = 0\n",
        "  \n",
        "for(i = 1 ; i*(i+1)*(i+2)<=numero ; i++):\n",
        "  \n",
        "    if(i*(i+1)*(i+2)==numero):\n",
        "      \n",
        "        variavel_auxiliar = 1\n",
        "        \n",
        "    if (variavel_auxiliar):\n",
        "      print(\"SIM\\n\")\n",
        "    else:\n",
        "      print(\"NAO\\n\")\n",
        "  \n",
        "  "
      ],
      "execution_count": 0,
      "outputs": []
    },
    {
      "cell_type": "markdown",
      "metadata": {
        "id": "Q8-Abrpxa_ZH",
        "colab_type": "text"
      },
      "source": [
        ""
      ]
    }
  ]
}